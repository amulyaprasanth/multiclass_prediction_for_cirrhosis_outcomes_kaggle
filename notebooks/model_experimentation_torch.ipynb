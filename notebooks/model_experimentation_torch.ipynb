{
 "cells": [
  {
   "metadata": {},
   "cell_type": "markdown",
   "source": [
    "# Model Experimentation Torch\n",
    "\n",
    "This notebook contains the classification of cirrhosis outcomes with torch"
   ],
   "id": "1c04cea8381dfa38"
  },
  {
   "cell_type": "code",
   "id": "initial_id",
   "metadata": {
    "collapsed": true,
    "ExecuteTime": {
     "end_time": "2024-05-13T19:21:56.015216Z",
     "start_time": "2024-05-13T19:21:54.071029Z"
    }
   },
   "source": [
    "import torch\n",
    "from torchinfo import summary\n",
    "from torch import nn\n",
    "from tqdm.auto import tqdm\n",
    "import numpy as np\n",
    "import pandas as pd\n",
    "\n",
    "from sklearn.model_selection import train_test_split\n",
    "from sklearn.pipeline import Pipeline\n",
    "from sklearn.preprocessing import OneHotEncoder, LabelEncoder, StandardScaler\n",
    "from sklearn.compose import ColumnTransformer\n",
    "\n",
    "# Remove warnings\n",
    "import warnings \n",
    "warnings.filterwarnings('ignore')\n",
    "\n",
    "device = \"cuda\" if torch.cuda.is_available() else \"cpu\""
   ],
   "outputs": [],
   "execution_count": 1
  },
  {
   "metadata": {
    "ExecuteTime": {
     "end_time": "2024-05-13T19:21:56.053612Z",
     "start_time": "2024-05-13T19:21:56.016225Z"
    }
   },
   "cell_type": "code",
   "source": [
    "# Load the dataset \n",
    "\n",
    "train = pd.read_csv('../data/train_modified.csv')\n",
    "test = pd.read_csv('../data/test_modified.csv')\n",
    "\n",
    "# view the first 5 rows of the train dataset\n",
    "train.head()"
   ],
   "id": "6d1d9aeb4348f180",
   "outputs": [
    {
     "data": {
      "text/plain": [
       "              Drug  Age Sex Ascites Hepatomegaly Spiders Edema  Bilirubin  \\\n",
       "0  D-penicillamine   58   M       N            N       N     N        2.3   \n",
       "1          Placebo   52   F       N            N       N     N        0.9   \n",
       "2          Placebo   37   F       N            Y       Y     Y        3.3   \n",
       "3          Placebo   50   F       N            N       N     N        0.6   \n",
       "4          Placebo   45   F       N            Y       N     N        1.1   \n",
       "\n",
       "   Cholesterol  Albumin  Copper  Alk_Phos    SGOT  Tryglicerides  Platelets  \\\n",
       "0        316.0     3.35   172.0    1601.0  179.80           63.0      394.0   \n",
       "1        364.0     3.54    63.0    1440.0  134.85           88.0      361.0   \n",
       "2        299.0     3.55   131.0    1029.0  119.35           50.0      199.0   \n",
       "3        256.0     3.50    58.0    1653.0   71.30           96.0      269.0   \n",
       "4        346.0     3.65    63.0    1181.0  125.55           96.0      298.0   \n",
       "\n",
       "   Prothrombin  Stage Status  N_Days_Years  \n",
       "0          9.7    3.0      D           2.7  \n",
       "1         11.0    3.0      C           7.1  \n",
       "2         11.7    4.0      D           9.4  \n",
       "3         10.7    3.0      C           7.1  \n",
       "4         10.6    4.0      C           2.2  "
      ],
      "text/html": [
       "<div>\n",
       "<style scoped>\n",
       "    .dataframe tbody tr th:only-of-type {\n",
       "        vertical-align: middle;\n",
       "    }\n",
       "\n",
       "    .dataframe tbody tr th {\n",
       "        vertical-align: top;\n",
       "    }\n",
       "\n",
       "    .dataframe thead th {\n",
       "        text-align: right;\n",
       "    }\n",
       "</style>\n",
       "<table border=\"1\" class=\"dataframe\">\n",
       "  <thead>\n",
       "    <tr style=\"text-align: right;\">\n",
       "      <th></th>\n",
       "      <th>Drug</th>\n",
       "      <th>Age</th>\n",
       "      <th>Sex</th>\n",
       "      <th>Ascites</th>\n",
       "      <th>Hepatomegaly</th>\n",
       "      <th>Spiders</th>\n",
       "      <th>Edema</th>\n",
       "      <th>Bilirubin</th>\n",
       "      <th>Cholesterol</th>\n",
       "      <th>Albumin</th>\n",
       "      <th>Copper</th>\n",
       "      <th>Alk_Phos</th>\n",
       "      <th>SGOT</th>\n",
       "      <th>Tryglicerides</th>\n",
       "      <th>Platelets</th>\n",
       "      <th>Prothrombin</th>\n",
       "      <th>Stage</th>\n",
       "      <th>Status</th>\n",
       "      <th>N_Days_Years</th>\n",
       "    </tr>\n",
       "  </thead>\n",
       "  <tbody>\n",
       "    <tr>\n",
       "      <th>0</th>\n",
       "      <td>D-penicillamine</td>\n",
       "      <td>58</td>\n",
       "      <td>M</td>\n",
       "      <td>N</td>\n",
       "      <td>N</td>\n",
       "      <td>N</td>\n",
       "      <td>N</td>\n",
       "      <td>2.3</td>\n",
       "      <td>316.0</td>\n",
       "      <td>3.35</td>\n",
       "      <td>172.0</td>\n",
       "      <td>1601.0</td>\n",
       "      <td>179.80</td>\n",
       "      <td>63.0</td>\n",
       "      <td>394.0</td>\n",
       "      <td>9.7</td>\n",
       "      <td>3.0</td>\n",
       "      <td>D</td>\n",
       "      <td>2.7</td>\n",
       "    </tr>\n",
       "    <tr>\n",
       "      <th>1</th>\n",
       "      <td>Placebo</td>\n",
       "      <td>52</td>\n",
       "      <td>F</td>\n",
       "      <td>N</td>\n",
       "      <td>N</td>\n",
       "      <td>N</td>\n",
       "      <td>N</td>\n",
       "      <td>0.9</td>\n",
       "      <td>364.0</td>\n",
       "      <td>3.54</td>\n",
       "      <td>63.0</td>\n",
       "      <td>1440.0</td>\n",
       "      <td>134.85</td>\n",
       "      <td>88.0</td>\n",
       "      <td>361.0</td>\n",
       "      <td>11.0</td>\n",
       "      <td>3.0</td>\n",
       "      <td>C</td>\n",
       "      <td>7.1</td>\n",
       "    </tr>\n",
       "    <tr>\n",
       "      <th>2</th>\n",
       "      <td>Placebo</td>\n",
       "      <td>37</td>\n",
       "      <td>F</td>\n",
       "      <td>N</td>\n",
       "      <td>Y</td>\n",
       "      <td>Y</td>\n",
       "      <td>Y</td>\n",
       "      <td>3.3</td>\n",
       "      <td>299.0</td>\n",
       "      <td>3.55</td>\n",
       "      <td>131.0</td>\n",
       "      <td>1029.0</td>\n",
       "      <td>119.35</td>\n",
       "      <td>50.0</td>\n",
       "      <td>199.0</td>\n",
       "      <td>11.7</td>\n",
       "      <td>4.0</td>\n",
       "      <td>D</td>\n",
       "      <td>9.4</td>\n",
       "    </tr>\n",
       "    <tr>\n",
       "      <th>3</th>\n",
       "      <td>Placebo</td>\n",
       "      <td>50</td>\n",
       "      <td>F</td>\n",
       "      <td>N</td>\n",
       "      <td>N</td>\n",
       "      <td>N</td>\n",
       "      <td>N</td>\n",
       "      <td>0.6</td>\n",
       "      <td>256.0</td>\n",
       "      <td>3.50</td>\n",
       "      <td>58.0</td>\n",
       "      <td>1653.0</td>\n",
       "      <td>71.30</td>\n",
       "      <td>96.0</td>\n",
       "      <td>269.0</td>\n",
       "      <td>10.7</td>\n",
       "      <td>3.0</td>\n",
       "      <td>C</td>\n",
       "      <td>7.1</td>\n",
       "    </tr>\n",
       "    <tr>\n",
       "      <th>4</th>\n",
       "      <td>Placebo</td>\n",
       "      <td>45</td>\n",
       "      <td>F</td>\n",
       "      <td>N</td>\n",
       "      <td>Y</td>\n",
       "      <td>N</td>\n",
       "      <td>N</td>\n",
       "      <td>1.1</td>\n",
       "      <td>346.0</td>\n",
       "      <td>3.65</td>\n",
       "      <td>63.0</td>\n",
       "      <td>1181.0</td>\n",
       "      <td>125.55</td>\n",
       "      <td>96.0</td>\n",
       "      <td>298.0</td>\n",
       "      <td>10.6</td>\n",
       "      <td>4.0</td>\n",
       "      <td>C</td>\n",
       "      <td>2.2</td>\n",
       "    </tr>\n",
       "  </tbody>\n",
       "</table>\n",
       "</div>"
      ]
     },
     "execution_count": 2,
     "metadata": {},
     "output_type": "execute_result"
    }
   ],
   "execution_count": 2
  },
  {
   "metadata": {
    "ExecuteTime": {
     "end_time": "2024-05-13T19:21:56.067363Z",
     "start_time": "2024-05-13T19:21:56.054621Z"
    }
   },
   "cell_type": "code",
   "source": [
    "# view the first 5 rows of the test dataset\n",
    "test.head()"
   ],
   "id": "273e8535b35db958",
   "outputs": [
    {
     "data": {
      "text/plain": [
       "              Drug  Age Sex Ascites Hepatomegaly Spiders Edema  Bilirubin  \\\n",
       "0  D-penicillamine   54   F       N            Y       N     N        1.2   \n",
       "1  D-penicillamine   41   F       N            N       N     N        1.1   \n",
       "2          Placebo   36   F       N            Y       N     Y        2.0   \n",
       "3  D-penicillamine   56   F       N            N       N     N        0.6   \n",
       "4  D-penicillamine   60   F       N            Y       N     N        1.4   \n",
       "\n",
       "   Cholesterol  Albumin  Copper  Alk_Phos    SGOT  Tryglicerides  Platelets  \\\n",
       "0        546.0     3.37    65.0    1636.0  151.90           90.0      430.0   \n",
       "1        660.0     4.22    94.0    1257.0  151.90          155.0      227.0   \n",
       "2        151.0     2.96    46.0     961.0   69.75          101.0      213.0   \n",
       "3        293.0     3.85    40.0     554.0  125.55           56.0      270.0   \n",
       "4        277.0     2.97   121.0    1110.0  125.00          126.0      221.0   \n",
       "\n",
       "   Prothrombin  Stage  N_Days_Years  \n",
       "0         10.6    2.0          10.5  \n",
       "1         10.0    2.0           6.8  \n",
       "2         13.0    4.0           0.1  \n",
       "3         10.6    2.0           6.4  \n",
       "4          9.8    1.0           4.4  "
      ],
      "text/html": [
       "<div>\n",
       "<style scoped>\n",
       "    .dataframe tbody tr th:only-of-type {\n",
       "        vertical-align: middle;\n",
       "    }\n",
       "\n",
       "    .dataframe tbody tr th {\n",
       "        vertical-align: top;\n",
       "    }\n",
       "\n",
       "    .dataframe thead th {\n",
       "        text-align: right;\n",
       "    }\n",
       "</style>\n",
       "<table border=\"1\" class=\"dataframe\">\n",
       "  <thead>\n",
       "    <tr style=\"text-align: right;\">\n",
       "      <th></th>\n",
       "      <th>Drug</th>\n",
       "      <th>Age</th>\n",
       "      <th>Sex</th>\n",
       "      <th>Ascites</th>\n",
       "      <th>Hepatomegaly</th>\n",
       "      <th>Spiders</th>\n",
       "      <th>Edema</th>\n",
       "      <th>Bilirubin</th>\n",
       "      <th>Cholesterol</th>\n",
       "      <th>Albumin</th>\n",
       "      <th>Copper</th>\n",
       "      <th>Alk_Phos</th>\n",
       "      <th>SGOT</th>\n",
       "      <th>Tryglicerides</th>\n",
       "      <th>Platelets</th>\n",
       "      <th>Prothrombin</th>\n",
       "      <th>Stage</th>\n",
       "      <th>N_Days_Years</th>\n",
       "    </tr>\n",
       "  </thead>\n",
       "  <tbody>\n",
       "    <tr>\n",
       "      <th>0</th>\n",
       "      <td>D-penicillamine</td>\n",
       "      <td>54</td>\n",
       "      <td>F</td>\n",
       "      <td>N</td>\n",
       "      <td>Y</td>\n",
       "      <td>N</td>\n",
       "      <td>N</td>\n",
       "      <td>1.2</td>\n",
       "      <td>546.0</td>\n",
       "      <td>3.37</td>\n",
       "      <td>65.0</td>\n",
       "      <td>1636.0</td>\n",
       "      <td>151.90</td>\n",
       "      <td>90.0</td>\n",
       "      <td>430.0</td>\n",
       "      <td>10.6</td>\n",
       "      <td>2.0</td>\n",
       "      <td>10.5</td>\n",
       "    </tr>\n",
       "    <tr>\n",
       "      <th>1</th>\n",
       "      <td>D-penicillamine</td>\n",
       "      <td>41</td>\n",
       "      <td>F</td>\n",
       "      <td>N</td>\n",
       "      <td>N</td>\n",
       "      <td>N</td>\n",
       "      <td>N</td>\n",
       "      <td>1.1</td>\n",
       "      <td>660.0</td>\n",
       "      <td>4.22</td>\n",
       "      <td>94.0</td>\n",
       "      <td>1257.0</td>\n",
       "      <td>151.90</td>\n",
       "      <td>155.0</td>\n",
       "      <td>227.0</td>\n",
       "      <td>10.0</td>\n",
       "      <td>2.0</td>\n",
       "      <td>6.8</td>\n",
       "    </tr>\n",
       "    <tr>\n",
       "      <th>2</th>\n",
       "      <td>Placebo</td>\n",
       "      <td>36</td>\n",
       "      <td>F</td>\n",
       "      <td>N</td>\n",
       "      <td>Y</td>\n",
       "      <td>N</td>\n",
       "      <td>Y</td>\n",
       "      <td>2.0</td>\n",
       "      <td>151.0</td>\n",
       "      <td>2.96</td>\n",
       "      <td>46.0</td>\n",
       "      <td>961.0</td>\n",
       "      <td>69.75</td>\n",
       "      <td>101.0</td>\n",
       "      <td>213.0</td>\n",
       "      <td>13.0</td>\n",
       "      <td>4.0</td>\n",
       "      <td>0.1</td>\n",
       "    </tr>\n",
       "    <tr>\n",
       "      <th>3</th>\n",
       "      <td>D-penicillamine</td>\n",
       "      <td>56</td>\n",
       "      <td>F</td>\n",
       "      <td>N</td>\n",
       "      <td>N</td>\n",
       "      <td>N</td>\n",
       "      <td>N</td>\n",
       "      <td>0.6</td>\n",
       "      <td>293.0</td>\n",
       "      <td>3.85</td>\n",
       "      <td>40.0</td>\n",
       "      <td>554.0</td>\n",
       "      <td>125.55</td>\n",
       "      <td>56.0</td>\n",
       "      <td>270.0</td>\n",
       "      <td>10.6</td>\n",
       "      <td>2.0</td>\n",
       "      <td>6.4</td>\n",
       "    </tr>\n",
       "    <tr>\n",
       "      <th>4</th>\n",
       "      <td>D-penicillamine</td>\n",
       "      <td>60</td>\n",
       "      <td>F</td>\n",
       "      <td>N</td>\n",
       "      <td>Y</td>\n",
       "      <td>N</td>\n",
       "      <td>N</td>\n",
       "      <td>1.4</td>\n",
       "      <td>277.0</td>\n",
       "      <td>2.97</td>\n",
       "      <td>121.0</td>\n",
       "      <td>1110.0</td>\n",
       "      <td>125.00</td>\n",
       "      <td>126.0</td>\n",
       "      <td>221.0</td>\n",
       "      <td>9.8</td>\n",
       "      <td>1.0</td>\n",
       "      <td>4.4</td>\n",
       "    </tr>\n",
       "  </tbody>\n",
       "</table>\n",
       "</div>"
      ]
     },
     "execution_count": 3,
     "metadata": {},
     "output_type": "execute_result"
    }
   ],
   "execution_count": 3
  },
  {
   "metadata": {
    "ExecuteTime": {
     "end_time": "2024-05-13T19:21:56.079843Z",
     "start_time": "2024-05-13T19:21:56.068374Z"
    }
   },
   "cell_type": "code",
   "source": [
    "# Get the informational statistics of the datasets for encoding and scaling\n",
    "train.info()"
   ],
   "id": "59faebdb9af3955d",
   "outputs": [
    {
     "name": "stdout",
     "output_type": "stream",
     "text": [
      "<class 'pandas.core.frame.DataFrame'>\n",
      "RangeIndex: 7905 entries, 0 to 7904\n",
      "Data columns (total 19 columns):\n",
      " #   Column         Non-Null Count  Dtype  \n",
      "---  ------         --------------  -----  \n",
      " 0   Drug           7905 non-null   object \n",
      " 1   Age            7905 non-null   int64  \n",
      " 2   Sex            7905 non-null   object \n",
      " 3   Ascites        7905 non-null   object \n",
      " 4   Hepatomegaly   7905 non-null   object \n",
      " 5   Spiders        7905 non-null   object \n",
      " 6   Edema          7905 non-null   object \n",
      " 7   Bilirubin      7905 non-null   float64\n",
      " 8   Cholesterol    7905 non-null   float64\n",
      " 9   Albumin        7905 non-null   float64\n",
      " 10  Copper         7905 non-null   float64\n",
      " 11  Alk_Phos       7905 non-null   float64\n",
      " 12  SGOT           7905 non-null   float64\n",
      " 13  Tryglicerides  7905 non-null   float64\n",
      " 14  Platelets      7905 non-null   float64\n",
      " 15  Prothrombin    7905 non-null   float64\n",
      " 16  Stage          7905 non-null   float64\n",
      " 17  Status         7905 non-null   object \n",
      " 18  N_Days_Years   7905 non-null   float64\n",
      "dtypes: float64(11), int64(1), object(7)\n",
      "memory usage: 1.1+ MB\n"
     ]
    }
   ],
   "execution_count": 4
  },
  {
   "metadata": {},
   "cell_type": "markdown",
   "source": [
    "## Data Validation \n",
    "\n",
    "This section involves checking and validation the data quality"
   ],
   "id": "908eb3d635075715"
  },
  {
   "metadata": {
    "ExecuteTime": {
     "end_time": "2024-05-13T19:21:56.089627Z",
     "start_time": "2024-05-13T19:21:56.081852Z"
    }
   },
   "cell_type": "code",
   "source": [
    "# checking for duplicate values\n",
    "train.duplicated().sum()"
   ],
   "id": "6bcf211cde1b5bec",
   "outputs": [
    {
     "data": {
      "text/plain": [
       "4"
      ]
     },
     "execution_count": 5,
     "metadata": {},
     "output_type": "execute_result"
    }
   ],
   "execution_count": 5
  },
  {
   "metadata": {
    "ExecuteTime": {
     "end_time": "2024-05-13T19:21:56.095997Z",
     "start_time": "2024-05-13T19:21:56.090638Z"
    }
   },
   "cell_type": "code",
   "source": [
    "# check for missing values\n",
    "train.isnull().sum()"
   ],
   "id": "f91857d5f1a0409e",
   "outputs": [
    {
     "data": {
      "text/plain": [
       "Drug             0\n",
       "Age              0\n",
       "Sex              0\n",
       "Ascites          0\n",
       "Hepatomegaly     0\n",
       "Spiders          0\n",
       "Edema            0\n",
       "Bilirubin        0\n",
       "Cholesterol      0\n",
       "Albumin          0\n",
       "Copper           0\n",
       "Alk_Phos         0\n",
       "SGOT             0\n",
       "Tryglicerides    0\n",
       "Platelets        0\n",
       "Prothrombin      0\n",
       "Stage            0\n",
       "Status           0\n",
       "N_Days_Years     0\n",
       "dtype: int64"
      ]
     },
     "execution_count": 6,
     "metadata": {},
     "output_type": "execute_result"
    }
   ],
   "execution_count": 6
  },
  {
   "metadata": {},
   "cell_type": "markdown",
   "source": "## Data Preprocessing",
   "id": "1fe658f287d3d7ce"
  },
  {
   "metadata": {
    "ExecuteTime": {
     "end_time": "2024-05-13T19:21:56.105086Z",
     "start_time": "2024-05-13T19:21:56.097008Z"
    }
   },
   "cell_type": "code",
   "source": [
    "# Splitting the data into features and target\n",
    "features = train.drop(columns=['Status'])\n",
    "target = train['Status']\n",
    "\n",
    "# View the shapes of train\n",
    "features.shape, target.shape"
   ],
   "id": "8e854267ac086f51",
   "outputs": [
    {
     "data": {
      "text/plain": [
       "((7905, 18), (7905,))"
      ]
     },
     "execution_count": 7,
     "metadata": {},
     "output_type": "execute_result"
    }
   ],
   "execution_count": 7
  },
  {
   "metadata": {
    "ExecuteTime": {
     "end_time": "2024-05-13T19:21:56.111122Z",
     "start_time": "2024-05-13T19:21:56.105086Z"
    }
   },
   "cell_type": "code",
   "source": [
    "num_classes = len(target.unique())\n",
    "num_classes"
   ],
   "id": "cbef12c0dd122ebb",
   "outputs": [
    {
     "data": {
      "text/plain": [
       "3"
      ]
     },
     "execution_count": 8,
     "metadata": {},
     "output_type": "execute_result"
    }
   ],
   "execution_count": 8
  },
  {
   "metadata": {
    "ExecuteTime": {
     "end_time": "2024-05-13T19:21:56.119756Z",
     "start_time": "2024-05-13T19:21:56.112127Z"
    }
   },
   "cell_type": "code",
   "source": [
    "# Split the data into training and validation sets \n",
    "X_train, X_val, y_train, y_val = train_test_split(features, target, test_size=0.05, random_state=42)\n",
    "\n",
    "# Ensure the shapes of training and validation sets\n",
    "X_train.shape, y_train.shape, X_val.shape, y_val.shape"
   ],
   "id": "337e3c35728a213",
   "outputs": [
    {
     "data": {
      "text/plain": [
       "((7509, 18), (7509,), (396, 18), (396,))"
      ]
     },
     "execution_count": 9,
     "metadata": {},
     "output_type": "execute_result"
    }
   ],
   "execution_count": 9
  },
  {
   "metadata": {},
   "cell_type": "markdown",
   "source": "# Let's create a function for preprocessing of categorical and numerical features",
   "id": "c5b7fde6c619afc4"
  },
  {
   "metadata": {
    "ExecuteTime": {
     "end_time": "2024-05-13T19:21:56.124940Z",
     "start_time": "2024-05-13T19:21:56.120760Z"
    }
   },
   "cell_type": "code",
   "source": [
    "def create_preprocessor(dataset):\n",
    "    \n",
    "    # Get the names of categorical and numerical columns\n",
    "    categorical_features = list(dataset.select_dtypes(include=\"object\").columns)\n",
    "    \n",
    "    # Create a transformer for categorical cols\n",
    "    one_hot_encoder = OneHotEncoder(sparse_output=False)\n",
    "    cat_scaler = StandardScaler()\n",
    "    \n",
    "    categorical_transformer = Pipeline(\n",
    "        steps=[\n",
    "            (\"one_hot\", one_hot_encoder),\n",
    "            (\"cat_scaler\", cat_scaler)\n",
    "        ]\n",
    "    )\n",
    "    \n",
    "    \n",
    "    preprocessor = ColumnTransformer(\n",
    "            transformers = [\n",
    "                    (\"categorical\", categorical_transformer, categorical_features)\n",
    "            ]\n",
    "    )\n",
    "    \n",
    "    \n",
    "    return preprocessor"
   ],
   "id": "bafecc6280749b2",
   "outputs": [],
   "execution_count": 10
  },
  {
   "metadata": {
    "ExecuteTime": {
     "end_time": "2024-05-13T19:21:56.146846Z",
     "start_time": "2024-05-13T19:21:56.124940Z"
    }
   },
   "cell_type": "code",
   "source": [
    "# Test our function\n",
    "preprocessor = create_preprocessor(X_train)\n",
    "\n",
    "\n",
    "X_train = preprocessor.fit_transform(X_train)\n",
    "X_val = preprocessor.transform(X_val)\n",
    "\n",
    "# Get the shapes of the preprocessed data\n",
    "X_train.shape, X_val.shape"
   ],
   "id": "5d06f99577b4f909",
   "outputs": [
    {
     "data": {
      "text/plain": [
       "((7509, 13), (396, 13))"
      ]
     },
     "execution_count": 11,
     "metadata": {},
     "output_type": "execute_result"
    }
   ],
   "execution_count": 11
  },
  {
   "metadata": {
    "ExecuteTime": {
     "end_time": "2024-05-13T19:21:56.152725Z",
     "start_time": "2024-05-13T19:21:56.147855Z"
    }
   },
   "cell_type": "code",
   "source": [
    "# Create scaler \n",
    "scaler = StandardScaler()\n",
    "\n",
    "X_train = scaler.fit_transform(X_train)\n",
    "X_val = scaler.transform(X_val)\n",
    "\n",
    "X_train.shape, X_val.shape"
   ],
   "id": "bc6af70fbacded33",
   "outputs": [
    {
     "data": {
      "text/plain": [
       "((7509, 13), (396, 13))"
      ]
     },
     "execution_count": 12,
     "metadata": {},
     "output_type": "execute_result"
    }
   ],
   "execution_count": 12
  },
  {
   "metadata": {
    "ExecuteTime": {
     "end_time": "2024-05-13T19:21:56.160303Z",
     "start_time": "2024-05-13T19:21:56.152725Z"
    }
   },
   "cell_type": "code",
   "source": [
    "# Create a label encoder\n",
    "enc = LabelEncoder()\n",
    "\n",
    "y_train = enc.fit_transform(y_train)\n",
    "y_val = enc.transform(y_val)\n",
    "\n",
    "y_train.shape, y_val.shape"
   ],
   "id": "f4042bb54f055057",
   "outputs": [
    {
     "data": {
      "text/plain": [
       "((7509,), (396,))"
      ]
     },
     "execution_count": 13,
     "metadata": {},
     "output_type": "execute_result"
    }
   ],
   "execution_count": 13
  },
  {
   "metadata": {},
   "cell_type": "markdown",
   "source": "**Now let's convert these into tensors**",
   "id": "9a33504cacbd9dbe"
  },
  {
   "metadata": {
    "ExecuteTime": {
     "end_time": "2024-05-13T19:21:56.252497Z",
     "start_time": "2024-05-13T19:21:56.161311Z"
    }
   },
   "cell_type": "code",
   "source": [
    "X_train_tensor = torch.tensor(X_train, dtype=torch.float32).to(device)\n",
    "y_train_tensor = torch.tensor(y_train, dtype=torch.int64).to(device)\n",
    "X_val_tensor = torch.tensor(X_val, dtype=torch.float32).to(device)\n",
    "y_val_tensor = torch.tensor(y_val, dtype=torch.int64).to(device)\n",
    "\n",
    "# check the shape and size of tensors\n",
    "X_train_tensor.size(), y_train_tensor.size(), X_val_tensor.size(), y_val_tensor.size()"
   ],
   "id": "bfd88a93e97e65f9",
   "outputs": [
    {
     "data": {
      "text/plain": [
       "(torch.Size([7509, 13]),\n",
       " torch.Size([7509]),\n",
       " torch.Size([396, 13]),\n",
       " torch.Size([396]))"
      ]
     },
     "execution_count": 14,
     "metadata": {},
     "output_type": "execute_result"
    }
   ],
   "execution_count": 14
  },
  {
   "metadata": {},
   "cell_type": "markdown",
   "source": "**Let's create a Deep learning model**",
   "id": "bacfe84b671e5101"
  },
  {
   "metadata": {
    "ExecuteTime": {
     "end_time": "2024-05-13T19:21:56.260446Z",
     "start_time": "2024-05-13T19:21:56.253503Z"
    }
   },
   "cell_type": "code",
   "source": [
    "class MultiClassCirrhosisOutcomes(nn.Module):\n",
    "    def __init__(self, num_classes):\n",
    "        self.num_classes = num_classes\n",
    "        super().__init__()\n",
    "        self.linear1 = nn.Linear(in_features=13, out_features=32)\n",
    "        self.relu1 = nn.ReLU()\n",
    "        self.dropout1 = nn.Dropout(0.2)\n",
    "        self.linear2 = nn.Linear(in_features=32, out_features=16)\n",
    "        self.relu2 = nn.ReLU()\n",
    "        self.dropout2 = nn.Dropout(0.2)\n",
    "        self.linear3 = nn.Linear(in_features=16, out_features=8)\n",
    "        self.relu3 = nn.ReLU()\n",
    "        self.output = nn.Linear(in_features=8, out_features=num_classes)\n",
    "        self.softmax = nn.Softmax()\n",
    "        \n",
    "        \n",
    "    def forward(self, x:torch.Tensor) -> torch.Tensor:\n",
    "        return self.softmax(self.output(self.relu3(self.linear3(self.dropout2(self.relu2(self.linear2(self.dropout1(self.relu1(self.linear1(x))))))))))\n",
    "        "
   ],
   "id": "ced6075f77b5c48b",
   "outputs": [],
   "execution_count": 15
  },
  {
   "metadata": {
    "ExecuteTime": {
     "end_time": "2024-05-13T19:21:56.335241Z",
     "start_time": "2024-05-13T19:21:56.261463Z"
    }
   },
   "cell_type": "code",
   "source": [
    "# Create a model instance and print the summary fo the model\n",
    "model_0 = MultiClassCirrhosisOutcomes(3).to(device)\n",
    "\n",
    "# Get the summary of the model  \n",
    "summary(model_0, input_size=(1, 13))"
   ],
   "id": "a94f64ce55a0e788",
   "outputs": [
    {
     "data": {
      "text/plain": [
       "==========================================================================================\n",
       "Layer (type:depth-idx)                   Output Shape              Param #\n",
       "==========================================================================================\n",
       "MultiClassCirrhosisOutcomes              [1, 3]                    --\n",
       "├─Linear: 1-1                            [1, 32]                   448\n",
       "├─ReLU: 1-2                              [1, 32]                   --\n",
       "├─Dropout: 1-3                           [1, 32]                   --\n",
       "├─Linear: 1-4                            [1, 16]                   528\n",
       "├─ReLU: 1-5                              [1, 16]                   --\n",
       "├─Dropout: 1-6                           [1, 16]                   --\n",
       "├─Linear: 1-7                            [1, 8]                    136\n",
       "├─ReLU: 1-8                              [1, 8]                    --\n",
       "├─Linear: 1-9                            [1, 3]                    27\n",
       "├─Softmax: 1-10                          [1, 3]                    --\n",
       "==========================================================================================\n",
       "Total params: 1,139\n",
       "Trainable params: 1,139\n",
       "Non-trainable params: 0\n",
       "Total mult-adds (Units.MEGABYTES): 0.00\n",
       "==========================================================================================\n",
       "Input size (MB): 0.00\n",
       "Forward/backward pass size (MB): 0.00\n",
       "Params size (MB): 0.00\n",
       "Estimated Total Size (MB): 0.01\n",
       "=========================================================================================="
      ]
     },
     "execution_count": 16,
     "metadata": {},
     "output_type": "execute_result"
    }
   ],
   "execution_count": 16
  },
  {
   "metadata": {
    "ExecuteTime": {
     "end_time": "2024-05-13T19:21:57.142088Z",
     "start_time": "2024-05-13T19:21:56.335241Z"
    }
   },
   "cell_type": "code",
   "source": [
    "# Create loss function and optimizer\n",
    "loss_fn = nn.NLLLoss()\n",
    "optimizer = torch.optim.Adam(model_0.parameters(), lr=2e-3)"
   ],
   "id": "87062f25aa3aa936",
   "outputs": [],
   "execution_count": 17
  },
  {
   "metadata": {
    "ExecuteTime": {
     "end_time": "2024-05-13T19:21:57.145860Z",
     "start_time": "2024-05-13T19:21:57.142390Z"
    }
   },
   "cell_type": "code",
   "source": [
    "# Calculate accuracy (a classification metric)\n",
    "def accuracy_fn(y_true, y_pred):\n",
    "    correct = torch.eq(y_true, y_pred).sum().item() # torch.eq() calculates where two tensors are equal\n",
    "    acc = (correct / len(y_pred)) * 100 \n",
    "    return acc"
   ],
   "id": "e0c42b57581648c1",
   "outputs": [],
   "execution_count": 18
  },
  {
   "metadata": {},
   "cell_type": "markdown",
   "source": "**Training the model**",
   "id": "4407218dc18c8fe1"
  },
  {
   "metadata": {
    "ExecuteTime": {
     "end_time": "2024-05-13T19:21:58.531450Z",
     "start_time": "2024-05-13T19:21:57.146864Z"
    }
   },
   "cell_type": "code",
   "source": [
    "torch.manual_seed(42)\n",
    "EPOCHS = 500\n",
    "\n",
    "\n",
    "# Put data to target device\n",
    "X_train_tensor, y_train_tensor = X_train_tensor.to(device), y_train_tensor.to(device)\n",
    "X_val_tensor, y_val_tensor = X_val_tensor.to(device), y_val_tensor.to(device)\n",
    "\n",
    "# For epoch in a range\n",
    "for epoch in tqdm(range(EPOCHS)):\n",
    "    \n",
    "    ### Training loop\n",
    "    # Set the model to traning mode\n",
    "    model_0.train()\n",
    "    \n",
    "    # Do the forward pass\n",
    "    y_pred = model_0(X_train_tensor).squeeze()\n",
    "    \n",
    "    # Calculate loss and accuracy\n",
    "    loss = loss_fn(y_pred, y_train_tensor)\n",
    "    acc = accuracy_fn(y_true=y_train_tensor, y_pred=y_pred.argmax(1))\n",
    "    \n",
    "    # Optimizer zero grad\n",
    "    optimizer.zero_grad()\n",
    "    \n",
    "    # Loss backward\n",
    "    loss.backward()\n",
    "    \n",
    "    # Optimizer step\n",
    "    optimizer.step()\n",
    "    \n",
    "    \n",
    "    ### Testing loop\n",
    "    model_0.eval()\n",
    "    \n",
    "    with  torch.inference_mode():\n",
    "        # Forward pass\n",
    "        test_preds = model_0(X_val_tensor).squeeze()\n",
    "        \n",
    "        # Calculate the test loss and accuracy\n",
    "        test_loss = loss_fn(test_preds,\n",
    "                            y_val_tensor)\n",
    "        test_acc = accuracy_fn(y_pred=test_preds.argmax(1), y_true=y_val_tensor)\n",
    "        \n",
    "        \n",
    "    # Print what's happening\n",
    "    if epoch % 10 == 0:\n",
    "        print(f\"Epoch: {epoch} | Loss: {loss:.5f} | Accuracy: {acc:.2f}% | Test Loss: {test_loss:.5f} | Test Accuracy: {test_acc:.2f}%\")"
   ],
   "id": "bf43ad3fc58f9eaf",
   "outputs": [
    {
     "data": {
      "text/plain": [
       "  0%|          | 0/500 [00:00<?, ?it/s]"
      ],
      "application/vnd.jupyter.widget-view+json": {
       "version_major": 2,
       "version_minor": 0,
       "model_id": "a649d7cd1e74435b81fa7eff5ce1e297"
      }
     },
     "metadata": {},
     "output_type": "display_data"
    },
    {
     "name": "stdout",
     "output_type": "stream",
     "text": [
      "Epoch: 0 | Loss: -0.36039 | Accuracy: 31.58% | Test Loss: -0.36616 | Test Accuracy: 38.13%\n",
      "Epoch: 10 | Loss: -0.38293 | Accuracy: 33.80% | Test Loss: -0.38891 | Test Accuracy: 39.39%\n",
      "Epoch: 20 | Loss: -0.41465 | Accuracy: 66.96% | Test Loss: -0.42083 | Test Accuracy: 68.94%\n",
      "Epoch: 30 | Loss: -0.46350 | Accuracy: 70.22% | Test Loss: -0.46961 | Test Accuracy: 67.17%\n",
      "Epoch: 40 | Loss: -0.54446 | Accuracy: 70.06% | Test Loss: -0.54641 | Test Accuracy: 66.41%\n",
      "Epoch: 50 | Loss: -0.64282 | Accuracy: 70.62% | Test Loss: -0.63349 | Test Accuracy: 68.18%\n",
      "Epoch: 60 | Loss: -0.69540 | Accuracy: 71.99% | Test Loss: -0.67192 | Test Accuracy: 68.69%\n",
      "Epoch: 70 | Loss: -0.71439 | Accuracy: 72.83% | Test Loss: -0.68387 | Test Accuracy: 69.19%\n",
      "Epoch: 80 | Loss: -0.72052 | Accuracy: 72.67% | Test Loss: -0.68736 | Test Accuracy: 69.19%\n",
      "Epoch: 90 | Loss: -0.72569 | Accuracy: 72.87% | Test Loss: -0.68723 | Test Accuracy: 68.69%\n",
      "Epoch: 100 | Loss: -0.72791 | Accuracy: 73.06% | Test Loss: -0.68675 | Test Accuracy: 68.69%\n",
      "Epoch: 110 | Loss: -0.72959 | Accuracy: 73.13% | Test Loss: -0.68678 | Test Accuracy: 68.69%\n",
      "Epoch: 120 | Loss: -0.73001 | Accuracy: 73.23% | Test Loss: -0.68683 | Test Accuracy: 68.69%\n",
      "Epoch: 130 | Loss: -0.73022 | Accuracy: 73.14% | Test Loss: -0.68685 | Test Accuracy: 68.69%\n",
      "Epoch: 140 | Loss: -0.73130 | Accuracy: 73.18% | Test Loss: -0.68686 | Test Accuracy: 68.69%\n",
      "Epoch: 150 | Loss: -0.73117 | Accuracy: 73.19% | Test Loss: -0.68686 | Test Accuracy: 68.69%\n",
      "Epoch: 160 | Loss: -0.73135 | Accuracy: 73.19% | Test Loss: -0.68687 | Test Accuracy: 68.69%\n",
      "Epoch: 170 | Loss: -0.73191 | Accuracy: 73.19% | Test Loss: -0.68687 | Test Accuracy: 68.69%\n",
      "Epoch: 180 | Loss: -0.73125 | Accuracy: 73.18% | Test Loss: -0.68687 | Test Accuracy: 68.69%\n",
      "Epoch: 190 | Loss: -0.73195 | Accuracy: 73.25% | Test Loss: -0.68687 | Test Accuracy: 68.69%\n",
      "Epoch: 200 | Loss: -0.73171 | Accuracy: 73.17% | Test Loss: -0.68687 | Test Accuracy: 68.69%\n",
      "Epoch: 210 | Loss: -0.73200 | Accuracy: 73.21% | Test Loss: -0.68687 | Test Accuracy: 68.69%\n",
      "Epoch: 220 | Loss: -0.73109 | Accuracy: 73.13% | Test Loss: -0.68687 | Test Accuracy: 68.69%\n",
      "Epoch: 230 | Loss: -0.73164 | Accuracy: 73.19% | Test Loss: -0.68687 | Test Accuracy: 68.69%\n",
      "Epoch: 240 | Loss: -0.73178 | Accuracy: 73.19% | Test Loss: -0.68687 | Test Accuracy: 68.69%\n",
      "Epoch: 250 | Loss: -0.73153 | Accuracy: 73.18% | Test Loss: -0.68687 | Test Accuracy: 68.69%\n",
      "Epoch: 260 | Loss: -0.73173 | Accuracy: 73.18% | Test Loss: -0.68687 | Test Accuracy: 68.69%\n",
      "Epoch: 270 | Loss: -0.73164 | Accuracy: 73.18% | Test Loss: -0.68687 | Test Accuracy: 68.69%\n",
      "Epoch: 280 | Loss: -0.73163 | Accuracy: 73.15% | Test Loss: -0.68687 | Test Accuracy: 68.69%\n",
      "Epoch: 290 | Loss: -0.73187 | Accuracy: 73.19% | Test Loss: -0.68687 | Test Accuracy: 68.69%\n",
      "Epoch: 300 | Loss: -0.73158 | Accuracy: 73.17% | Test Loss: -0.68687 | Test Accuracy: 68.69%\n",
      "Epoch: 310 | Loss: -0.73183 | Accuracy: 73.19% | Test Loss: -0.68687 | Test Accuracy: 68.69%\n",
      "Epoch: 320 | Loss: -0.73182 | Accuracy: 73.19% | Test Loss: -0.68687 | Test Accuracy: 68.69%\n",
      "Epoch: 330 | Loss: -0.73155 | Accuracy: 73.17% | Test Loss: -0.68687 | Test Accuracy: 68.69%\n",
      "Epoch: 340 | Loss: -0.73170 | Accuracy: 73.18% | Test Loss: -0.68687 | Test Accuracy: 68.69%\n",
      "Epoch: 350 | Loss: -0.73175 | Accuracy: 73.21% | Test Loss: -0.68687 | Test Accuracy: 68.69%\n",
      "Epoch: 360 | Loss: -0.73170 | Accuracy: 73.19% | Test Loss: -0.68687 | Test Accuracy: 68.69%\n",
      "Epoch: 370 | Loss: -0.73183 | Accuracy: 73.19% | Test Loss: -0.68687 | Test Accuracy: 68.69%\n",
      "Epoch: 380 | Loss: -0.73215 | Accuracy: 73.21% | Test Loss: -0.68687 | Test Accuracy: 68.69%\n",
      "Epoch: 390 | Loss: -0.73195 | Accuracy: 73.19% | Test Loss: -0.68687 | Test Accuracy: 68.69%\n",
      "Epoch: 400 | Loss: -0.73154 | Accuracy: 73.17% | Test Loss: -0.68687 | Test Accuracy: 68.69%\n",
      "Epoch: 410 | Loss: -0.73182 | Accuracy: 73.19% | Test Loss: -0.68687 | Test Accuracy: 68.69%\n",
      "Epoch: 420 | Loss: -0.73217 | Accuracy: 73.23% | Test Loss: -0.68687 | Test Accuracy: 68.69%\n",
      "Epoch: 430 | Loss: -0.73177 | Accuracy: 73.19% | Test Loss: -0.68687 | Test Accuracy: 68.69%\n",
      "Epoch: 440 | Loss: -0.73178 | Accuracy: 73.18% | Test Loss: -0.68687 | Test Accuracy: 68.69%\n",
      "Epoch: 450 | Loss: -0.73186 | Accuracy: 73.19% | Test Loss: -0.68687 | Test Accuracy: 68.69%\n",
      "Epoch: 460 | Loss: -0.73203 | Accuracy: 73.21% | Test Loss: -0.68687 | Test Accuracy: 68.69%\n",
      "Epoch: 470 | Loss: -0.73185 | Accuracy: 73.19% | Test Loss: -0.68687 | Test Accuracy: 68.69%\n",
      "Epoch: 480 | Loss: -0.73189 | Accuracy: 73.19% | Test Loss: -0.68687 | Test Accuracy: 68.69%\n",
      "Epoch: 490 | Loss: -0.73189 | Accuracy: 73.19% | Test Loss: -0.68687 | Test Accuracy: 68.69%\n"
     ]
    }
   ],
   "execution_count": 19
  },
  {
   "metadata": {
    "ExecuteTime": {
     "end_time": "2024-05-13T19:21:58.534655Z",
     "start_time": "2024-05-13T19:21:58.531964Z"
    }
   },
   "cell_type": "code",
   "source": "",
   "id": "ff433dcdcc35cbb4",
   "outputs": [],
   "execution_count": 19
  }
 ],
 "metadata": {
  "kernelspec": {
   "display_name": "Python 3",
   "language": "python",
   "name": "python3"
  },
  "language_info": {
   "codemirror_mode": {
    "name": "ipython",
    "version": 2
   },
   "file_extension": ".py",
   "mimetype": "text/x-python",
   "name": "python",
   "nbconvert_exporter": "python",
   "pygments_lexer": "ipython2",
   "version": "2.7.6"
  }
 },
 "nbformat": 4,
 "nbformat_minor": 5
}
