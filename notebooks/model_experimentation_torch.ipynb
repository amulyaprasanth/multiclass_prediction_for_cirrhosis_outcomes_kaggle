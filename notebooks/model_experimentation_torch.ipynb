{
 "cells": [
  {
   "metadata": {},
   "cell_type": "markdown",
   "source": [
    "# Model Experimentation Torch\n",
    "\n",
    "This notebook contains the classification of cirrhosis outcomes with torch"
   ],
   "id": "1c04cea8381dfa38"
  },
  {
   "cell_type": "code",
   "id": "initial_id",
   "metadata": {
    "collapsed": true,
    "ExecuteTime": {
     "end_time": "2024-05-16T18:03:06.085902Z",
     "start_time": "2024-05-16T18:03:03.954036Z"
    }
   },
   "source": [
    "import torch\n",
    "from torchinfo import summary\n",
    "from torch import nn\n",
    "from tqdm.auto import tqdm\n",
    "from torch.utils.data import Dataset, DataLoader\n",
    "import numpy as np\n",
    "import pandas as pd\n",
    "\n",
    "from sklearn.model_selection import train_test_split\n",
    "from sklearn.pipeline import Pipeline\n",
    "from sklearn.preprocessing import OneHotEncoder, LabelEncoder, StandardScaler\n",
    "from sklearn.compose import ColumnTransformer\n",
    "\n",
    "# Remove warnings\n",
    "import warnings \n",
    "warnings.filterwarnings('ignore')\n",
    "\n",
    "device = \"cuda\" if torch.cuda.is_available() else \"cpu\""
   ],
   "outputs": [],
   "execution_count": 1
  },
  {
   "metadata": {
    "ExecuteTime": {
     "end_time": "2024-05-16T18:03:06.122253Z",
     "start_time": "2024-05-16T18:03:06.086910Z"
    }
   },
   "cell_type": "code",
   "source": [
    "# Load the dataset \n",
    "\n",
    "train = pd.read_csv('../data/train_modified.csv')\n",
    "test = pd.read_csv('../data/test_modified.csv')\n",
    "\n",
    "# view the first 5 rows of the train dataset\n",
    "train.head()"
   ],
   "id": "6d1d9aeb4348f180",
   "outputs": [
    {
     "data": {
      "text/plain": [
       "              Drug  Age Sex Ascites Hepatomegaly Spiders Edema  Bilirubin  \\\n",
       "0  D-penicillamine   58   M       N            N       N     N        2.3   \n",
       "1          Placebo   52   F       N            N       N     N        0.9   \n",
       "2          Placebo   37   F       N            Y       Y     Y        3.3   \n",
       "3          Placebo   50   F       N            N       N     N        0.6   \n",
       "4          Placebo   45   F       N            Y       N     N        1.1   \n",
       "\n",
       "   Cholesterol  Albumin  Copper  Alk_Phos    SGOT  Tryglicerides  Platelets  \\\n",
       "0        316.0     3.35   172.0    1601.0  179.80           63.0      394.0   \n",
       "1        364.0     3.54    63.0    1440.0  134.85           88.0      361.0   \n",
       "2        299.0     3.55   131.0    1029.0  119.35           50.0      199.0   \n",
       "3        256.0     3.50    58.0    1653.0   71.30           96.0      269.0   \n",
       "4        346.0     3.65    63.0    1181.0  125.55           96.0      298.0   \n",
       "\n",
       "   Prothrombin  Stage Status  N_Days_Years  \n",
       "0          9.7    3.0      D           2.7  \n",
       "1         11.0    3.0      C           7.1  \n",
       "2         11.7    4.0      D           9.4  \n",
       "3         10.7    3.0      C           7.1  \n",
       "4         10.6    4.0      C           2.2  "
      ],
      "text/html": [
       "<div>\n",
       "<style scoped>\n",
       "    .dataframe tbody tr th:only-of-type {\n",
       "        vertical-align: middle;\n",
       "    }\n",
       "\n",
       "    .dataframe tbody tr th {\n",
       "        vertical-align: top;\n",
       "    }\n",
       "\n",
       "    .dataframe thead th {\n",
       "        text-align: right;\n",
       "    }\n",
       "</style>\n",
       "<table border=\"1\" class=\"dataframe\">\n",
       "  <thead>\n",
       "    <tr style=\"text-align: right;\">\n",
       "      <th></th>\n",
       "      <th>Drug</th>\n",
       "      <th>Age</th>\n",
       "      <th>Sex</th>\n",
       "      <th>Ascites</th>\n",
       "      <th>Hepatomegaly</th>\n",
       "      <th>Spiders</th>\n",
       "      <th>Edema</th>\n",
       "      <th>Bilirubin</th>\n",
       "      <th>Cholesterol</th>\n",
       "      <th>Albumin</th>\n",
       "      <th>Copper</th>\n",
       "      <th>Alk_Phos</th>\n",
       "      <th>SGOT</th>\n",
       "      <th>Tryglicerides</th>\n",
       "      <th>Platelets</th>\n",
       "      <th>Prothrombin</th>\n",
       "      <th>Stage</th>\n",
       "      <th>Status</th>\n",
       "      <th>N_Days_Years</th>\n",
       "    </tr>\n",
       "  </thead>\n",
       "  <tbody>\n",
       "    <tr>\n",
       "      <th>0</th>\n",
       "      <td>D-penicillamine</td>\n",
       "      <td>58</td>\n",
       "      <td>M</td>\n",
       "      <td>N</td>\n",
       "      <td>N</td>\n",
       "      <td>N</td>\n",
       "      <td>N</td>\n",
       "      <td>2.3</td>\n",
       "      <td>316.0</td>\n",
       "      <td>3.35</td>\n",
       "      <td>172.0</td>\n",
       "      <td>1601.0</td>\n",
       "      <td>179.80</td>\n",
       "      <td>63.0</td>\n",
       "      <td>394.0</td>\n",
       "      <td>9.7</td>\n",
       "      <td>3.0</td>\n",
       "      <td>D</td>\n",
       "      <td>2.7</td>\n",
       "    </tr>\n",
       "    <tr>\n",
       "      <th>1</th>\n",
       "      <td>Placebo</td>\n",
       "      <td>52</td>\n",
       "      <td>F</td>\n",
       "      <td>N</td>\n",
       "      <td>N</td>\n",
       "      <td>N</td>\n",
       "      <td>N</td>\n",
       "      <td>0.9</td>\n",
       "      <td>364.0</td>\n",
       "      <td>3.54</td>\n",
       "      <td>63.0</td>\n",
       "      <td>1440.0</td>\n",
       "      <td>134.85</td>\n",
       "      <td>88.0</td>\n",
       "      <td>361.0</td>\n",
       "      <td>11.0</td>\n",
       "      <td>3.0</td>\n",
       "      <td>C</td>\n",
       "      <td>7.1</td>\n",
       "    </tr>\n",
       "    <tr>\n",
       "      <th>2</th>\n",
       "      <td>Placebo</td>\n",
       "      <td>37</td>\n",
       "      <td>F</td>\n",
       "      <td>N</td>\n",
       "      <td>Y</td>\n",
       "      <td>Y</td>\n",
       "      <td>Y</td>\n",
       "      <td>3.3</td>\n",
       "      <td>299.0</td>\n",
       "      <td>3.55</td>\n",
       "      <td>131.0</td>\n",
       "      <td>1029.0</td>\n",
       "      <td>119.35</td>\n",
       "      <td>50.0</td>\n",
       "      <td>199.0</td>\n",
       "      <td>11.7</td>\n",
       "      <td>4.0</td>\n",
       "      <td>D</td>\n",
       "      <td>9.4</td>\n",
       "    </tr>\n",
       "    <tr>\n",
       "      <th>3</th>\n",
       "      <td>Placebo</td>\n",
       "      <td>50</td>\n",
       "      <td>F</td>\n",
       "      <td>N</td>\n",
       "      <td>N</td>\n",
       "      <td>N</td>\n",
       "      <td>N</td>\n",
       "      <td>0.6</td>\n",
       "      <td>256.0</td>\n",
       "      <td>3.50</td>\n",
       "      <td>58.0</td>\n",
       "      <td>1653.0</td>\n",
       "      <td>71.30</td>\n",
       "      <td>96.0</td>\n",
       "      <td>269.0</td>\n",
       "      <td>10.7</td>\n",
       "      <td>3.0</td>\n",
       "      <td>C</td>\n",
       "      <td>7.1</td>\n",
       "    </tr>\n",
       "    <tr>\n",
       "      <th>4</th>\n",
       "      <td>Placebo</td>\n",
       "      <td>45</td>\n",
       "      <td>F</td>\n",
       "      <td>N</td>\n",
       "      <td>Y</td>\n",
       "      <td>N</td>\n",
       "      <td>N</td>\n",
       "      <td>1.1</td>\n",
       "      <td>346.0</td>\n",
       "      <td>3.65</td>\n",
       "      <td>63.0</td>\n",
       "      <td>1181.0</td>\n",
       "      <td>125.55</td>\n",
       "      <td>96.0</td>\n",
       "      <td>298.0</td>\n",
       "      <td>10.6</td>\n",
       "      <td>4.0</td>\n",
       "      <td>C</td>\n",
       "      <td>2.2</td>\n",
       "    </tr>\n",
       "  </tbody>\n",
       "</table>\n",
       "</div>"
      ]
     },
     "execution_count": 2,
     "metadata": {},
     "output_type": "execute_result"
    }
   ],
   "execution_count": 2
  },
  {
   "metadata": {
    "ExecuteTime": {
     "end_time": "2024-05-16T18:03:06.134907Z",
     "start_time": "2024-05-16T18:03:06.123261Z"
    }
   },
   "cell_type": "code",
   "source": [
    "# view the first 5 rows of the test dataset\n",
    "test.head()"
   ],
   "id": "273e8535b35db958",
   "outputs": [
    {
     "data": {
      "text/plain": [
       "              Drug  Age Sex Ascites Hepatomegaly Spiders Edema  Bilirubin  \\\n",
       "0  D-penicillamine   54   F       N            Y       N     N        1.2   \n",
       "1  D-penicillamine   41   F       N            N       N     N        1.1   \n",
       "2          Placebo   36   F       N            Y       N     Y        2.0   \n",
       "3  D-penicillamine   56   F       N            N       N     N        0.6   \n",
       "4  D-penicillamine   60   F       N            Y       N     N        1.4   \n",
       "\n",
       "   Cholesterol  Albumin  Copper  Alk_Phos    SGOT  Tryglicerides  Platelets  \\\n",
       "0        546.0     3.37    65.0    1636.0  151.90           90.0      430.0   \n",
       "1        660.0     4.22    94.0    1257.0  151.90          155.0      227.0   \n",
       "2        151.0     2.96    46.0     961.0   69.75          101.0      213.0   \n",
       "3        293.0     3.85    40.0     554.0  125.55           56.0      270.0   \n",
       "4        277.0     2.97   121.0    1110.0  125.00          126.0      221.0   \n",
       "\n",
       "   Prothrombin  Stage  N_Days_Years  \n",
       "0         10.6    2.0          10.5  \n",
       "1         10.0    2.0           6.8  \n",
       "2         13.0    4.0           0.1  \n",
       "3         10.6    2.0           6.4  \n",
       "4          9.8    1.0           4.4  "
      ],
      "text/html": [
       "<div>\n",
       "<style scoped>\n",
       "    .dataframe tbody tr th:only-of-type {\n",
       "        vertical-align: middle;\n",
       "    }\n",
       "\n",
       "    .dataframe tbody tr th {\n",
       "        vertical-align: top;\n",
       "    }\n",
       "\n",
       "    .dataframe thead th {\n",
       "        text-align: right;\n",
       "    }\n",
       "</style>\n",
       "<table border=\"1\" class=\"dataframe\">\n",
       "  <thead>\n",
       "    <tr style=\"text-align: right;\">\n",
       "      <th></th>\n",
       "      <th>Drug</th>\n",
       "      <th>Age</th>\n",
       "      <th>Sex</th>\n",
       "      <th>Ascites</th>\n",
       "      <th>Hepatomegaly</th>\n",
       "      <th>Spiders</th>\n",
       "      <th>Edema</th>\n",
       "      <th>Bilirubin</th>\n",
       "      <th>Cholesterol</th>\n",
       "      <th>Albumin</th>\n",
       "      <th>Copper</th>\n",
       "      <th>Alk_Phos</th>\n",
       "      <th>SGOT</th>\n",
       "      <th>Tryglicerides</th>\n",
       "      <th>Platelets</th>\n",
       "      <th>Prothrombin</th>\n",
       "      <th>Stage</th>\n",
       "      <th>N_Days_Years</th>\n",
       "    </tr>\n",
       "  </thead>\n",
       "  <tbody>\n",
       "    <tr>\n",
       "      <th>0</th>\n",
       "      <td>D-penicillamine</td>\n",
       "      <td>54</td>\n",
       "      <td>F</td>\n",
       "      <td>N</td>\n",
       "      <td>Y</td>\n",
       "      <td>N</td>\n",
       "      <td>N</td>\n",
       "      <td>1.2</td>\n",
       "      <td>546.0</td>\n",
       "      <td>3.37</td>\n",
       "      <td>65.0</td>\n",
       "      <td>1636.0</td>\n",
       "      <td>151.90</td>\n",
       "      <td>90.0</td>\n",
       "      <td>430.0</td>\n",
       "      <td>10.6</td>\n",
       "      <td>2.0</td>\n",
       "      <td>10.5</td>\n",
       "    </tr>\n",
       "    <tr>\n",
       "      <th>1</th>\n",
       "      <td>D-penicillamine</td>\n",
       "      <td>41</td>\n",
       "      <td>F</td>\n",
       "      <td>N</td>\n",
       "      <td>N</td>\n",
       "      <td>N</td>\n",
       "      <td>N</td>\n",
       "      <td>1.1</td>\n",
       "      <td>660.0</td>\n",
       "      <td>4.22</td>\n",
       "      <td>94.0</td>\n",
       "      <td>1257.0</td>\n",
       "      <td>151.90</td>\n",
       "      <td>155.0</td>\n",
       "      <td>227.0</td>\n",
       "      <td>10.0</td>\n",
       "      <td>2.0</td>\n",
       "      <td>6.8</td>\n",
       "    </tr>\n",
       "    <tr>\n",
       "      <th>2</th>\n",
       "      <td>Placebo</td>\n",
       "      <td>36</td>\n",
       "      <td>F</td>\n",
       "      <td>N</td>\n",
       "      <td>Y</td>\n",
       "      <td>N</td>\n",
       "      <td>Y</td>\n",
       "      <td>2.0</td>\n",
       "      <td>151.0</td>\n",
       "      <td>2.96</td>\n",
       "      <td>46.0</td>\n",
       "      <td>961.0</td>\n",
       "      <td>69.75</td>\n",
       "      <td>101.0</td>\n",
       "      <td>213.0</td>\n",
       "      <td>13.0</td>\n",
       "      <td>4.0</td>\n",
       "      <td>0.1</td>\n",
       "    </tr>\n",
       "    <tr>\n",
       "      <th>3</th>\n",
       "      <td>D-penicillamine</td>\n",
       "      <td>56</td>\n",
       "      <td>F</td>\n",
       "      <td>N</td>\n",
       "      <td>N</td>\n",
       "      <td>N</td>\n",
       "      <td>N</td>\n",
       "      <td>0.6</td>\n",
       "      <td>293.0</td>\n",
       "      <td>3.85</td>\n",
       "      <td>40.0</td>\n",
       "      <td>554.0</td>\n",
       "      <td>125.55</td>\n",
       "      <td>56.0</td>\n",
       "      <td>270.0</td>\n",
       "      <td>10.6</td>\n",
       "      <td>2.0</td>\n",
       "      <td>6.4</td>\n",
       "    </tr>\n",
       "    <tr>\n",
       "      <th>4</th>\n",
       "      <td>D-penicillamine</td>\n",
       "      <td>60</td>\n",
       "      <td>F</td>\n",
       "      <td>N</td>\n",
       "      <td>Y</td>\n",
       "      <td>N</td>\n",
       "      <td>N</td>\n",
       "      <td>1.4</td>\n",
       "      <td>277.0</td>\n",
       "      <td>2.97</td>\n",
       "      <td>121.0</td>\n",
       "      <td>1110.0</td>\n",
       "      <td>125.00</td>\n",
       "      <td>126.0</td>\n",
       "      <td>221.0</td>\n",
       "      <td>9.8</td>\n",
       "      <td>1.0</td>\n",
       "      <td>4.4</td>\n",
       "    </tr>\n",
       "  </tbody>\n",
       "</table>\n",
       "</div>"
      ]
     },
     "execution_count": 3,
     "metadata": {},
     "output_type": "execute_result"
    }
   ],
   "execution_count": 3
  },
  {
   "metadata": {
    "ExecuteTime": {
     "end_time": "2024-05-16T18:03:06.147429Z",
     "start_time": "2024-05-16T18:03:06.135915Z"
    }
   },
   "cell_type": "code",
   "source": [
    "# Get the informational statistics of the datasets for encoding and scaling\n",
    "train.info()"
   ],
   "id": "59faebdb9af3955d",
   "outputs": [
    {
     "name": "stdout",
     "output_type": "stream",
     "text": [
      "<class 'pandas.core.frame.DataFrame'>\n",
      "RangeIndex: 7905 entries, 0 to 7904\n",
      "Data columns (total 19 columns):\n",
      " #   Column         Non-Null Count  Dtype  \n",
      "---  ------         --------------  -----  \n",
      " 0   Drug           7905 non-null   object \n",
      " 1   Age            7905 non-null   int64  \n",
      " 2   Sex            7905 non-null   object \n",
      " 3   Ascites        7905 non-null   object \n",
      " 4   Hepatomegaly   7905 non-null   object \n",
      " 5   Spiders        7905 non-null   object \n",
      " 6   Edema          7905 non-null   object \n",
      " 7   Bilirubin      7905 non-null   float64\n",
      " 8   Cholesterol    7905 non-null   float64\n",
      " 9   Albumin        7905 non-null   float64\n",
      " 10  Copper         7905 non-null   float64\n",
      " 11  Alk_Phos       7905 non-null   float64\n",
      " 12  SGOT           7905 non-null   float64\n",
      " 13  Tryglicerides  7905 non-null   float64\n",
      " 14  Platelets      7905 non-null   float64\n",
      " 15  Prothrombin    7905 non-null   float64\n",
      " 16  Stage          7905 non-null   float64\n",
      " 17  Status         7905 non-null   object \n",
      " 18  N_Days_Years   7905 non-null   float64\n",
      "dtypes: float64(11), int64(1), object(7)\n",
      "memory usage: 1.1+ MB\n"
     ]
    }
   ],
   "execution_count": 4
  },
  {
   "metadata": {},
   "cell_type": "markdown",
   "source": [
    "## Data Validation \n",
    "\n",
    "This section involves checking and validation the data quality"
   ],
   "id": "908eb3d635075715"
  },
  {
   "metadata": {
    "ExecuteTime": {
     "end_time": "2024-05-16T18:03:06.160790Z",
     "start_time": "2024-05-16T18:03:06.148434Z"
    }
   },
   "cell_type": "code",
   "source": [
    "# checking for duplicate values\n",
    "train.duplicated().sum()"
   ],
   "id": "6bcf211cde1b5bec",
   "outputs": [
    {
     "data": {
      "text/plain": [
       "4"
      ]
     },
     "execution_count": 5,
     "metadata": {},
     "output_type": "execute_result"
    }
   ],
   "execution_count": 5
  },
  {
   "metadata": {
    "ExecuteTime": {
     "end_time": "2024-05-16T18:03:06.177345Z",
     "start_time": "2024-05-16T18:03:06.161798Z"
    }
   },
   "cell_type": "code",
   "source": [
    "# check for missing values\n",
    "train.isnull().sum()"
   ],
   "id": "f91857d5f1a0409e",
   "outputs": [
    {
     "data": {
      "text/plain": [
       "Drug             0\n",
       "Age              0\n",
       "Sex              0\n",
       "Ascites          0\n",
       "Hepatomegaly     0\n",
       "Spiders          0\n",
       "Edema            0\n",
       "Bilirubin        0\n",
       "Cholesterol      0\n",
       "Albumin          0\n",
       "Copper           0\n",
       "Alk_Phos         0\n",
       "SGOT             0\n",
       "Tryglicerides    0\n",
       "Platelets        0\n",
       "Prothrombin      0\n",
       "Stage            0\n",
       "Status           0\n",
       "N_Days_Years     0\n",
       "dtype: int64"
      ]
     },
     "execution_count": 6,
     "metadata": {},
     "output_type": "execute_result"
    }
   ],
   "execution_count": 6
  },
  {
   "metadata": {},
   "cell_type": "markdown",
   "source": "## Data Preprocessing",
   "id": "1fe658f287d3d7ce"
  },
  {
   "metadata": {
    "ExecuteTime": {
     "end_time": "2024-05-16T18:03:06.193455Z",
     "start_time": "2024-05-16T18:03:06.178354Z"
    }
   },
   "cell_type": "code",
   "source": [
    "# Splitting the data into features and target\n",
    "features = train.drop(columns=['Status'])\n",
    "target = train['Status']\n",
    "\n",
    "# View the shapes of train\n",
    "features.shape, target.shape"
   ],
   "id": "8e854267ac086f51",
   "outputs": [
    {
     "data": {
      "text/plain": [
       "((7905, 18), (7905,))"
      ]
     },
     "execution_count": 7,
     "metadata": {},
     "output_type": "execute_result"
    }
   ],
   "execution_count": 7
  },
  {
   "metadata": {
    "ExecuteTime": {
     "end_time": "2024-05-16T18:03:06.210476Z",
     "start_time": "2024-05-16T18:03:06.193455Z"
    }
   },
   "cell_type": "code",
   "source": [
    "num_classes = len(target.unique())\n",
    "num_classes"
   ],
   "id": "cbef12c0dd122ebb",
   "outputs": [
    {
     "data": {
      "text/plain": [
       "3"
      ]
     },
     "execution_count": 8,
     "metadata": {},
     "output_type": "execute_result"
    }
   ],
   "execution_count": 8
  },
  {
   "metadata": {
    "ExecuteTime": {
     "end_time": "2024-05-16T18:03:06.231421Z",
     "start_time": "2024-05-16T18:03:06.210476Z"
    }
   },
   "cell_type": "code",
   "source": [
    "# Split the data into training and validation sets \n",
    "X_train, X_val, y_train, y_val = train_test_split(features, target, test_size=0.05, random_state=42)\n",
    "\n",
    "# Ensure the shapes of training and validation sets\n",
    "X_train.shape, y_train.shape, X_val.shape, y_val.shape"
   ],
   "id": "337e3c35728a213",
   "outputs": [
    {
     "data": {
      "text/plain": [
       "((7509, 18), (7509,), (396, 18), (396,))"
      ]
     },
     "execution_count": 9,
     "metadata": {},
     "output_type": "execute_result"
    }
   ],
   "execution_count": 9
  },
  {
   "metadata": {},
   "cell_type": "markdown",
   "source": "# Let's create a function for preprocessing of categorical and numerical features",
   "id": "c5b7fde6c619afc4"
  },
  {
   "metadata": {
    "ExecuteTime": {
     "end_time": "2024-05-16T18:03:06.246119Z",
     "start_time": "2024-05-16T18:03:06.233511Z"
    }
   },
   "cell_type": "code",
   "source": [
    "def create_preprocessor(dataset):\n",
    "    \n",
    "    # Get the names of categorical and numerical columns\n",
    "    categorical_features = list(dataset.select_dtypes(include=\"object\").columns)\n",
    "    \n",
    "    # Create a transformer for categorical cols\n",
    "    one_hot_encoder = OneHotEncoder(sparse_output=False)\n",
    "    cat_scaler = StandardScaler()\n",
    "    \n",
    "    categorical_transformer = Pipeline(\n",
    "        steps=[\n",
    "            (\"one_hot\", one_hot_encoder),\n",
    "            (\"cat_scaler\", cat_scaler)\n",
    "        ]\n",
    "    )\n",
    "    \n",
    "    \n",
    "    preprocessor = ColumnTransformer(\n",
    "            transformers = [\n",
    "                    (\"categorical\", categorical_transformer, categorical_features)\n",
    "            ]\n",
    "    )\n",
    "    \n",
    "    \n",
    "    return preprocessor"
   ],
   "id": "bafecc6280749b2",
   "outputs": [],
   "execution_count": 10
  },
  {
   "metadata": {
    "ExecuteTime": {
     "end_time": "2024-05-16T18:03:06.279373Z",
     "start_time": "2024-05-16T18:03:06.246657Z"
    }
   },
   "cell_type": "code",
   "source": [
    "# Test our function\n",
    "preprocessor = create_preprocessor(X_train)\n",
    "\n",
    "\n",
    "X_train = preprocessor.fit_transform(X_train)\n",
    "X_val = preprocessor.transform(X_val)\n",
    "\n",
    "# Get the shapes of the preprocessed data\n",
    "X_train.shape, X_val.shape"
   ],
   "id": "5d06f99577b4f909",
   "outputs": [
    {
     "data": {
      "text/plain": [
       "((7509, 13), (396, 13))"
      ]
     },
     "execution_count": 11,
     "metadata": {},
     "output_type": "execute_result"
    }
   ],
   "execution_count": 11
  },
  {
   "metadata": {
    "ExecuteTime": {
     "end_time": "2024-05-16T18:03:06.285326Z",
     "start_time": "2024-05-16T18:03:06.279373Z"
    }
   },
   "cell_type": "code",
   "source": [
    "# Create scaler \n",
    "scaler = StandardScaler()\n",
    "\n",
    "X_train = scaler.fit_transform(X_train)\n",
    "X_val = scaler.transform(X_val)\n",
    "\n",
    "X_train.shape, X_val.shape"
   ],
   "id": "bc6af70fbacded33",
   "outputs": [
    {
     "data": {
      "text/plain": [
       "((7509, 13), (396, 13))"
      ]
     },
     "execution_count": 12,
     "metadata": {},
     "output_type": "execute_result"
    }
   ],
   "execution_count": 12
  },
  {
   "metadata": {
    "ExecuteTime": {
     "end_time": "2024-05-16T18:03:06.292537Z",
     "start_time": "2024-05-16T18:03:06.285326Z"
    }
   },
   "cell_type": "code",
   "source": [
    "# Create a label encoder\n",
    "enc = LabelEncoder()\n",
    "\n",
    "y_train = enc.fit_transform(y_train)\n",
    "y_val = enc.transform(y_val)\n",
    "\n",
    "y_train.shape, y_val.shape"
   ],
   "id": "f4042bb54f055057",
   "outputs": [
    {
     "data": {
      "text/plain": [
       "((7509,), (396,))"
      ]
     },
     "execution_count": 13,
     "metadata": {},
     "output_type": "execute_result"
    }
   ],
   "execution_count": 13
  },
  {
   "metadata": {
    "ExecuteTime": {
     "end_time": "2024-05-16T18:03:06.299950Z",
     "start_time": "2024-05-16T18:03:06.293540Z"
    }
   },
   "cell_type": "code",
   "source": "enc.classes_",
   "id": "bc1e5b5dd670f18e",
   "outputs": [
    {
     "data": {
      "text/plain": [
       "array(['C', 'CL', 'D'], dtype=object)"
      ]
     },
     "execution_count": 14,
     "metadata": {},
     "output_type": "execute_result"
    }
   ],
   "execution_count": 14
  },
  {
   "metadata": {},
   "cell_type": "markdown",
   "source": "### Let's create a dataloader for the Dataset",
   "id": "94113870404098cd"
  },
  {
   "metadata": {
    "ExecuteTime": {
     "end_time": "2024-05-16T18:03:06.305954Z",
     "start_time": "2024-05-16T18:03:06.299950Z"
    }
   },
   "cell_type": "code",
   "source": [
    "class CirrhosisDataset(Dataset):\n",
    "    def __init__(self, X, y):\n",
    "        self.X = torch.tensor(X, dtype=torch.float32).to(device)\n",
    "        self.y = torch.tensor(y, dtype=torch.uint8).to(device)\n",
    "        \n",
    "    def __len__(self):\n",
    "        return len(self.X)\n",
    "    \n",
    "    def __getitem__(self, index):\n",
    "        return self.X[index], self.y[index]        "
   ],
   "id": "c3f3db9e90f05c03",
   "outputs": [],
   "execution_count": 15
  },
  {
   "metadata": {},
   "cell_type": "markdown",
   "source": "**Let's create training, validation Dataloaders**",
   "id": "b86788371c5f1b"
  },
  {
   "metadata": {
    "ExecuteTime": {
     "end_time": "2024-05-16T18:03:06.406467Z",
     "start_time": "2024-05-16T18:03:06.306499Z"
    }
   },
   "cell_type": "code",
   "source": [
    "# Create datasets\n",
    "training_data = CirrhosisDataset(X_train, y_train)\n",
    "validation_data = CirrhosisDataset(X_val, y_val)\n",
    "\n",
    "BATCH_SIZE=32\n",
    "\n",
    "# Create dataloaders\n",
    "train_loader = DataLoader(training_data, batch_size=BATCH_SIZE, shuffle=True)\n",
    "val_loader = DataLoader(validation_data, batch_size=BATCH_SIZE, shuffle=True)"
   ],
   "id": "591dfe87e1a8286d",
   "outputs": [],
   "execution_count": 16
  },
  {
   "metadata": {},
   "cell_type": "markdown",
   "source": "**Let's create a Deep learning model**",
   "id": "bacfe84b671e5101"
  },
  {
   "metadata": {
    "ExecuteTime": {
     "end_time": "2024-05-16T18:03:06.412324Z",
     "start_time": "2024-05-16T18:03:06.407973Z"
    }
   },
   "cell_type": "code",
   "source": [
    "class MultiClassCirrhosisOutcomes(nn.Module):\n",
    "    def __init__(self, num_classes):\n",
    "        self.num_classes = num_classes\n",
    "        super().__init__()\n",
    "        self.linear1 = nn.Linear(in_features=13, out_features=32)\n",
    "        self.relu1 = nn.ReLU()\n",
    "        self.linear2 = nn.Linear(in_features=32, out_features=16)\n",
    "        self.relu2 = nn.ReLU()\n",
    "        self.output = nn.Linear(in_features=16, out_features=num_classes)\n",
    "        self.softmax = nn.Softmax()\n",
    "        \n",
    "        \n",
    "    def forward(self, x:torch.Tensor) -> torch.Tensor:\n",
    "        return self.softmax(self.output(self.relu2(self.linear2(self.relu1(self.linear1(x))))))\n",
    "        "
   ],
   "id": "ced6075f77b5c48b",
   "outputs": [],
   "execution_count": 17
  },
  {
   "metadata": {
    "ExecuteTime": {
     "end_time": "2024-05-16T18:03:06.491282Z",
     "start_time": "2024-05-16T18:03:06.413328Z"
    }
   },
   "cell_type": "code",
   "source": [
    "# Create a model instance and print the summary fo the model\n",
    "model_0 = MultiClassCirrhosisOutcomes(3).to(device)\n",
    "\n",
    "# Get the summary of the model  \n",
    "summary(model_0, input_size=(1, 13))"
   ],
   "id": "a94f64ce55a0e788",
   "outputs": [
    {
     "data": {
      "text/plain": [
       "==========================================================================================\n",
       "Layer (type:depth-idx)                   Output Shape              Param #\n",
       "==========================================================================================\n",
       "MultiClassCirrhosisOutcomes              [1, 3]                    --\n",
       "├─Linear: 1-1                            [1, 32]                   448\n",
       "├─ReLU: 1-2                              [1, 32]                   --\n",
       "├─Linear: 1-3                            [1, 16]                   528\n",
       "├─ReLU: 1-4                              [1, 16]                   --\n",
       "├─Linear: 1-5                            [1, 3]                    51\n",
       "├─Softmax: 1-6                           [1, 3]                    --\n",
       "==========================================================================================\n",
       "Total params: 1,027\n",
       "Trainable params: 1,027\n",
       "Non-trainable params: 0\n",
       "Total mult-adds (Units.MEGABYTES): 0.00\n",
       "==========================================================================================\n",
       "Input size (MB): 0.00\n",
       "Forward/backward pass size (MB): 0.00\n",
       "Params size (MB): 0.00\n",
       "Estimated Total Size (MB): 0.00\n",
       "=========================================================================================="
      ]
     },
     "execution_count": 18,
     "metadata": {},
     "output_type": "execute_result"
    }
   ],
   "execution_count": 18
  },
  {
   "metadata": {
    "ExecuteTime": {
     "end_time": "2024-05-16T18:03:07.344763Z",
     "start_time": "2024-05-16T18:03:06.492287Z"
    }
   },
   "cell_type": "code",
   "source": [
    "# Create loss function and optimizer\n",
    "loss_fn = nn.NLLLoss()\n",
    "optimizer = torch.optim.Adam(model_0.parameters(), lr=2e-3)"
   ],
   "id": "87062f25aa3aa936",
   "outputs": [],
   "execution_count": 19
  },
  {
   "metadata": {
    "ExecuteTime": {
     "end_time": "2024-05-16T18:03:07.348925Z",
     "start_time": "2024-05-16T18:03:07.344763Z"
    }
   },
   "cell_type": "code",
   "source": [
    "# Calculate accuracy (a classification metric)\n",
    "def accuracy_fn(y_true, y_pred):\n",
    "    correct = torch.eq(y_true, y_pred).sum().item() # torch.eq() calculates where two tensors are equal\n",
    "    acc = (correct / len(y_pred)) * 100 \n",
    "    return acc"
   ],
   "id": "e0c42b57581648c1",
   "outputs": [],
   "execution_count": 20
  },
  {
   "metadata": {},
   "cell_type": "markdown",
   "source": "**Training the model**",
   "id": "4407218dc18c8fe1"
  },
  {
   "metadata": {
    "ExecuteTime": {
     "end_time": "2024-05-16T18:03:51.533289Z",
     "start_time": "2024-05-16T18:03:07.349995Z"
    }
   },
   "cell_type": "code",
   "source": [
    "EPOCHS = 100\n",
    "\n",
    "# Set the seed for reproducibility\n",
    "torch.manual_seed(42)\n",
    "\n",
    "# Create training and testing loops\n",
    "for epoch in tqdm(range(EPOCHS)):\n",
    "    ### Training\n",
    "    model_0.train()\n",
    "    \n",
    "    # Set the training loss and acc\n",
    "    train_loss, train_acc = 0, 0\n",
    "    \n",
    "    # Loop for iterating through batches\n",
    "    for X, y in train_loader:\n",
    "        \n",
    "        # Forward pass\n",
    "        y_preds = model_0(X)\n",
    "        \n",
    "        # calculate the loss\n",
    "        loss = loss_fn(y_preds, y)\n",
    "        train_loss += loss\n",
    "        train_acc += accuracy_fn(y_true=y, y_pred=y_preds.argmax(dim=1))\n",
    "        \n",
    "        # Optimizer zero grad\n",
    "        optimizer.zero_grad()\n",
    "        \n",
    "        # Loss backward\n",
    "        loss.backward()\n",
    "        \n",
    "        # Optmizer step\n",
    "        optimizer.step()\n",
    "        \n",
    "        \n",
    "    # Get the average training loss\n",
    "    train_loss /= len(train_loader)\n",
    "    \n",
    "    # Get the average training accuracy\n",
    "    train_acc /= len(train_loader)\n",
    "    \n",
    "    \n",
    "    ### Testing Loop\n",
    "    test_loss, test_acc = 0, 0\n",
    "    \n",
    "    model_0.eval()\n",
    "    \n",
    "    with torch.inference_mode():\n",
    "        for X, y in val_loader:\n",
    "            \n",
    "            # Forward pass\n",
    "            test_preds = model_0(X)\n",
    "            \n",
    "            # Calculate the loss and accuracy\n",
    "            test_loss += loss_fn(test_preds, y)\n",
    "            test_acc += accuracy_fn(y_true=y, y_pred=test_preds.argmax(dim=1))\n",
    "            \n",
    "        # Calculate average metrics\n",
    "        test_loss /= len(val_loader)\n",
    "        test_acc /= len(val_loader)\n",
    "        \n",
    "    \n",
    "    # Print out what's happening\n",
    "    if epoch % 10 == 0 or epoch == EPOCHS:\n",
    "        print(f\"Epoch: {epoch} Training Loss: {train_loss:.5f} | Training Accuracy: {train_acc:.2f}% \\n Test Loss: {test_loss:.5f} | Test Accuracy: {test_acc:.2f}%\")\n",
    "       "
   ],
   "id": "bf43ad3fc58f9eaf",
   "outputs": [
    {
     "data": {
      "text/plain": [
       "  0%|          | 0/100 [00:00<?, ?it/s]"
      ],
      "application/vnd.jupyter.widget-view+json": {
       "version_major": 2,
       "version_minor": 0,
       "model_id": "9d8dacd8efec4e16b625d5d9006203f9"
      }
     },
     "metadata": {},
     "output_type": "display_data"
    },
    {
     "name": "stdout",
     "output_type": "stream",
     "text": [
      "Epoch: 0 Training Loss: -0.71531 | Training Accuracy: 72.14% \n",
      " Test Loss: -0.68029 | Test Accuracy: 68.03%\n",
      "Epoch: 10 Training Loss: -0.72771 | Training Accuracy: 72.77% \n",
      " Test Loss: -0.68029 | Test Accuracy: 68.03%\n",
      "Epoch: 20 Training Loss: -0.72792 | Training Accuracy: 72.79% \n",
      " Test Loss: -0.68429 | Test Accuracy: 68.43%\n",
      "Epoch: 30 Training Loss: -0.72771 | Training Accuracy: 72.77% \n",
      " Test Loss: -0.66827 | Test Accuracy: 66.83%\n",
      "Epoch: 40 Training Loss: -0.72757 | Training Accuracy: 72.76% \n",
      " Test Loss: -0.68429 | Test Accuracy: 68.43%\n",
      "Epoch: 50 Training Loss: -0.72757 | Training Accuracy: 72.76% \n",
      " Test Loss: -0.67228 | Test Accuracy: 67.23%\n",
      "Epoch: 60 Training Loss: -0.60131 | Training Accuracy: 60.13% \n",
      " Test Loss: -0.58173 | Test Accuracy: 58.17%\n",
      "Epoch: 70 Training Loss: -0.60082 | Training Accuracy: 60.08% \n",
      " Test Loss: -0.57772 | Test Accuracy: 57.77%\n",
      "Epoch: 80 Training Loss: -0.60124 | Training Accuracy: 60.12% \n",
      " Test Loss: -0.57372 | Test Accuracy: 57.37%\n",
      "Epoch: 90 Training Loss: -0.60117 | Training Accuracy: 60.12% \n",
      " Test Loss: -0.56571 | Test Accuracy: 56.57%\n"
     ]
    }
   ],
   "execution_count": 21
  },
  {
   "metadata": {
    "ExecuteTime": {
     "end_time": "2024-05-16T18:03:51.540787Z",
     "start_time": "2024-05-16T18:03:51.534297Z"
    }
   },
   "cell_type": "code",
   "source": [
    "# Save the model\n",
    "torch.save(model_0, \"../models/2_linear_layer_model.pt\")"
   ],
   "id": "ff433dcdcc35cbb4",
   "outputs": [],
   "execution_count": 22
  },
  {
   "metadata": {},
   "cell_type": "markdown",
   "source": "## Load the model and do predictions",
   "id": "57f806f9259a17c4"
  },
  {
   "metadata": {
    "ExecuteTime": {
     "end_time": "2024-05-16T18:03:51.551874Z",
     "start_time": "2024-05-16T18:03:51.541953Z"
    }
   },
   "cell_type": "code",
   "source": [
    "# Load the model \n",
    "loaded_model = torch.load(\"../models/3_linear_layer_model.pt\").to(\"cpu\")"
   ],
   "id": "a0e4f06f0ec48c3e",
   "outputs": [],
   "execution_count": 23
  },
  {
   "metadata": {
    "ExecuteTime": {
     "end_time": "2024-05-16T18:03:51.564008Z",
     "start_time": "2024-05-16T18:03:51.551874Z"
    }
   },
   "cell_type": "code",
   "source": [
    "# Process the test data\n",
    "\n",
    "# Apply the categorical preproessor on the test set\n",
    "test_arr = preprocessor.transform(test)\n",
    "\n",
    "# Apply the standard scaler \n",
    "test_arr = scaler.transform(test_arr)"
   ],
   "id": "63ad5496894a7875",
   "outputs": [],
   "execution_count": 24
  },
  {
   "metadata": {
    "ExecuteTime": {
     "end_time": "2024-05-16T18:03:51.568684Z",
     "start_time": "2024-05-16T18:03:51.565024Z"
    }
   },
   "cell_type": "code",
   "source": [
    "# Check the shape sot that it can match the model's input shape\n",
    "test_arr.shape"
   ],
   "id": "2834eae0c983b67f",
   "outputs": [
    {
     "data": {
      "text/plain": [
       "(5271, 13)"
      ]
     },
     "execution_count": 25,
     "metadata": {},
     "output_type": "execute_result"
    }
   ],
   "execution_count": 25
  },
  {
   "metadata": {
    "ExecuteTime": {
     "end_time": "2024-05-16T18:03:51.576927Z",
     "start_time": "2024-05-16T18:03:51.568684Z"
    }
   },
   "cell_type": "code",
   "source": [
    "# Convert the arr to tensor\n",
    "test_tensor = torch.tensor(test_arr, dtype=torch.float32)\n",
    "\n",
    "test_tensor.shape"
   ],
   "id": "8076a7f66da8aaca",
   "outputs": [
    {
     "data": {
      "text/plain": [
       "torch.Size([5271, 13])"
      ]
     },
     "execution_count": 26,
     "metadata": {},
     "output_type": "execute_result"
    }
   ],
   "execution_count": 26
  },
  {
   "metadata": {
    "ExecuteTime": {
     "end_time": "2024-05-16T18:03:51.594290Z",
     "start_time": "2024-05-16T18:03:51.577934Z"
    }
   },
   "cell_type": "code",
   "source": [
    "# Get the predictions\n",
    "\n",
    "loaded_model.eval()\n",
    "\n",
    "with torch.inference_mode():\n",
    "    preds = loaded_model(test_tensor.to(\"cpu\"))\n",
    "\n",
    "# View the first 5 predictions\n",
    "preds[:5]"
   ],
   "id": "d1aacc67f5bf591a",
   "outputs": [
    {
     "data": {
      "text/plain": [
       "tensor([[9.9997e-01, 9.1733e-06, 2.0286e-05],\n",
       "        [1.0000e+00, 1.3156e-07, 6.3359e-08],\n",
       "        [4.7896e-05, 2.9267e-05, 9.9992e-01],\n",
       "        [1.0000e+00, 1.3156e-07, 6.3359e-08],\n",
       "        [9.9997e-01, 9.1733e-06, 2.0286e-05]])"
      ]
     },
     "execution_count": 27,
     "metadata": {},
     "output_type": "execute_result"
    }
   ],
   "execution_count": 27
  },
  {
   "metadata": {
    "ExecuteTime": {
     "end_time": "2024-05-16T18:03:51.601867Z",
     "start_time": "2024-05-16T18:03:51.597748Z"
    }
   },
   "cell_type": "code",
   "source": "preds = torch.round(preds, decimals=6)",
   "id": "89282e0880cc35dc",
   "outputs": [],
   "execution_count": 28
  },
  {
   "metadata": {
    "ExecuteTime": {
     "end_time": "2024-05-16T18:03:51.610060Z",
     "start_time": "2024-05-16T18:03:51.602924Z"
    }
   },
   "cell_type": "code",
   "source": "preds[:5]",
   "id": "377b2f752aac317e",
   "outputs": [
    {
     "data": {
      "text/plain": [
       "tensor([[9.9997e-01, 9.0000e-06, 2.0000e-05],\n",
       "        [1.0000e+00, 0.0000e+00, 0.0000e+00],\n",
       "        [4.8000e-05, 2.9000e-05, 9.9992e-01],\n",
       "        [1.0000e+00, 0.0000e+00, 0.0000e+00],\n",
       "        [9.9997e-01, 9.0000e-06, 2.0000e-05]])"
      ]
     },
     "execution_count": 29,
     "metadata": {},
     "output_type": "execute_result"
    }
   ],
   "execution_count": 29
  },
  {
   "metadata": {
    "ExecuteTime": {
     "end_time": "2024-05-16T18:03:51.627525Z",
     "start_time": "2024-05-16T18:03:51.611066Z"
    }
   },
   "cell_type": "code",
   "source": [
    "# Load the sample submissions and save the results\n",
    "submissions = pd.read_csv('../data/sample_submission.csv')\n",
    "\n",
    "submissions.head()"
   ],
   "id": "9b0e999e1cb8a311",
   "outputs": [
    {
     "data": {
      "text/plain": [
       "     id  Status_C  Status_CL  Status_D\n",
       "0  7905  0.628084   0.034788  0.337128\n",
       "1  7906  0.628084   0.034788  0.337128\n",
       "2  7907  0.628084   0.034788  0.337128\n",
       "3  7908  0.628084   0.034788  0.337128\n",
       "4  7909  0.628084   0.034788  0.337128"
      ],
      "text/html": [
       "<div>\n",
       "<style scoped>\n",
       "    .dataframe tbody tr th:only-of-type {\n",
       "        vertical-align: middle;\n",
       "    }\n",
       "\n",
       "    .dataframe tbody tr th {\n",
       "        vertical-align: top;\n",
       "    }\n",
       "\n",
       "    .dataframe thead th {\n",
       "        text-align: right;\n",
       "    }\n",
       "</style>\n",
       "<table border=\"1\" class=\"dataframe\">\n",
       "  <thead>\n",
       "    <tr style=\"text-align: right;\">\n",
       "      <th></th>\n",
       "      <th>id</th>\n",
       "      <th>Status_C</th>\n",
       "      <th>Status_CL</th>\n",
       "      <th>Status_D</th>\n",
       "    </tr>\n",
       "  </thead>\n",
       "  <tbody>\n",
       "    <tr>\n",
       "      <th>0</th>\n",
       "      <td>7905</td>\n",
       "      <td>0.628084</td>\n",
       "      <td>0.034788</td>\n",
       "      <td>0.337128</td>\n",
       "    </tr>\n",
       "    <tr>\n",
       "      <th>1</th>\n",
       "      <td>7906</td>\n",
       "      <td>0.628084</td>\n",
       "      <td>0.034788</td>\n",
       "      <td>0.337128</td>\n",
       "    </tr>\n",
       "    <tr>\n",
       "      <th>2</th>\n",
       "      <td>7907</td>\n",
       "      <td>0.628084</td>\n",
       "      <td>0.034788</td>\n",
       "      <td>0.337128</td>\n",
       "    </tr>\n",
       "    <tr>\n",
       "      <th>3</th>\n",
       "      <td>7908</td>\n",
       "      <td>0.628084</td>\n",
       "      <td>0.034788</td>\n",
       "      <td>0.337128</td>\n",
       "    </tr>\n",
       "    <tr>\n",
       "      <th>4</th>\n",
       "      <td>7909</td>\n",
       "      <td>0.628084</td>\n",
       "      <td>0.034788</td>\n",
       "      <td>0.337128</td>\n",
       "    </tr>\n",
       "  </tbody>\n",
       "</table>\n",
       "</div>"
      ]
     },
     "execution_count": 30,
     "metadata": {},
     "output_type": "execute_result"
    }
   ],
   "execution_count": 30
  },
  {
   "metadata": {
    "ExecuteTime": {
     "end_time": "2024-05-16T18:03:51.638913Z",
     "start_time": "2024-05-16T18:03:51.627525Z"
    }
   },
   "cell_type": "code",
   "source": [
    "# Fill in the values\n",
    "\n",
    "submissions['Status_C'] = preds[:, 0]\n",
    "submissions[\"Status_CL\"] = preds[:, 1]\n",
    "submissions[\"Status_D\"] = preds[:, 2]\n",
    "\n",
    "submissions.head()"
   ],
   "id": "1334921fb29d0aaf",
   "outputs": [
    {
     "data": {
      "text/plain": [
       "     id  Status_C  Status_CL  Status_D\n",
       "0  7905  0.999971   0.000009  0.000020\n",
       "1  7906  1.000000   0.000000  0.000000\n",
       "2  7907  0.000048   0.000029  0.999923\n",
       "3  7908  1.000000   0.000000  0.000000\n",
       "4  7909  0.999971   0.000009  0.000020"
      ],
      "text/html": [
       "<div>\n",
       "<style scoped>\n",
       "    .dataframe tbody tr th:only-of-type {\n",
       "        vertical-align: middle;\n",
       "    }\n",
       "\n",
       "    .dataframe tbody tr th {\n",
       "        vertical-align: top;\n",
       "    }\n",
       "\n",
       "    .dataframe thead th {\n",
       "        text-align: right;\n",
       "    }\n",
       "</style>\n",
       "<table border=\"1\" class=\"dataframe\">\n",
       "  <thead>\n",
       "    <tr style=\"text-align: right;\">\n",
       "      <th></th>\n",
       "      <th>id</th>\n",
       "      <th>Status_C</th>\n",
       "      <th>Status_CL</th>\n",
       "      <th>Status_D</th>\n",
       "    </tr>\n",
       "  </thead>\n",
       "  <tbody>\n",
       "    <tr>\n",
       "      <th>0</th>\n",
       "      <td>7905</td>\n",
       "      <td>0.999971</td>\n",
       "      <td>0.000009</td>\n",
       "      <td>0.000020</td>\n",
       "    </tr>\n",
       "    <tr>\n",
       "      <th>1</th>\n",
       "      <td>7906</td>\n",
       "      <td>1.000000</td>\n",
       "      <td>0.000000</td>\n",
       "      <td>0.000000</td>\n",
       "    </tr>\n",
       "    <tr>\n",
       "      <th>2</th>\n",
       "      <td>7907</td>\n",
       "      <td>0.000048</td>\n",
       "      <td>0.000029</td>\n",
       "      <td>0.999923</td>\n",
       "    </tr>\n",
       "    <tr>\n",
       "      <th>3</th>\n",
       "      <td>7908</td>\n",
       "      <td>1.000000</td>\n",
       "      <td>0.000000</td>\n",
       "      <td>0.000000</td>\n",
       "    </tr>\n",
       "    <tr>\n",
       "      <th>4</th>\n",
       "      <td>7909</td>\n",
       "      <td>0.999971</td>\n",
       "      <td>0.000009</td>\n",
       "      <td>0.000020</td>\n",
       "    </tr>\n",
       "  </tbody>\n",
       "</table>\n",
       "</div>"
      ]
     },
     "execution_count": 31,
     "metadata": {},
     "output_type": "execute_result"
    }
   ],
   "execution_count": 31
  },
  {
   "metadata": {
    "ExecuteTime": {
     "end_time": "2024-05-16T18:03:51.661363Z",
     "start_time": "2024-05-16T18:03:51.638913Z"
    }
   },
   "cell_type": "code",
   "source": [
    "# Save the submissions dataframe\n",
    "submissions.to_csv(\"../data/torch_2_linear_layer_model.csv\", index=False, header=True, )"
   ],
   "id": "db55b9d0be2aebd5",
   "outputs": [],
   "execution_count": 32
  },
  {
   "metadata": {
    "ExecuteTime": {
     "end_time": "2024-05-16T18:03:51.665049Z",
     "start_time": "2024-05-16T18:03:51.662941Z"
    }
   },
   "cell_type": "code",
   "source": "",
   "id": "1d39d154ed50591c",
   "outputs": [],
   "execution_count": 32
  }
 ],
 "metadata": {
  "kernelspec": {
   "display_name": "Python 3",
   "language": "python",
   "name": "python3"
  },
  "language_info": {
   "codemirror_mode": {
    "name": "ipython",
    "version": 2
   },
   "file_extension": ".py",
   "mimetype": "text/x-python",
   "name": "python",
   "nbconvert_exporter": "python",
   "pygments_lexer": "ipython2",
   "version": "2.7.6"
  }
 },
 "nbformat": 4,
 "nbformat_minor": 5
}
